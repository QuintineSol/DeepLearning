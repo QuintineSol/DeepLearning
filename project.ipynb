{
 "cells": [
  {
   "cell_type": "markdown",
   "metadata": {},
   "source": [
    "# Deep Learning - Project"
   ]
  },
  {
   "cell_type": "code",
   "execution_count": 1,
   "metadata": {},
   "outputs": [],
   "source": [
    "import os\n",
    "import matplotlib.pyplot as plt\n",
    "import numpy as np\n",
    "import librosa\n",
    "import librosa.display\n",
    "import librosa.util\n",
    "import IPython.display as ipd\n",
    "import soundfile as sf"
   ]
  },
  {
   "cell_type": "markdown",
   "metadata": {},
   "source": [
    "## Load Data"
   ]
  },
  {
   "cell_type": "code",
   "execution_count": 2,
   "metadata": {},
   "outputs": [
    {
     "name": "stdout",
     "output_type": "stream",
     "text": [
      "Contents of the current directory:\n",
      ".git\n",
      "data_subsample\n",
      "project.ipynb\n",
      "README.md\n"
     ]
    }
   ],
   "source": [
    "current_dir = os.getcwd()\n",
    "\n",
    "print(\"Contents of the current directory:\")\n",
    "for item in os.listdir(current_dir):\n",
    "    print(item)"
   ]
  },
  {
   "cell_type": "code",
   "execution_count": 4,
   "metadata": {},
   "outputs": [],
   "source": [
    "data_dir = \"data_subsample/\"\n",
    "languages = [\"dutch\", \"english\", \"chinese\", \"italian\"]"
   ]
  },
  {
   "cell_type": "code",
   "execution_count": 5,
   "metadata": {},
   "outputs": [
    {
     "name": "stdout",
     "output_type": "stream",
     "text": [
      "Language path: data_subsample/dutch\n",
      "Subdirectories: ['clips']\n",
      "Number of files in dutch clips folder: 10\n",
      "\n",
      "\n",
      "Language path: data_subsample/english\n",
      "Subdirectories: ['clips']\n",
      "Number of files in english clips folder: 10\n",
      "\n",
      "\n",
      "Language path: data_subsample/chinese\n",
      "Subdirectories: ['clips']\n",
      "Number of files in chinese clips folder: 10\n",
      "\n",
      "\n",
      "Language path: data_subsample/italian\n",
      "Subdirectories: ['clips']\n",
      "Number of files in italian clips folder: 10\n",
      "\n",
      "\n"
     ]
    }
   ],
   "source": [
    "# Loop through languages\n",
    "for language in languages:\n",
    "    # language path\n",
    "    language_path = os.path.join(data_dir, language)\n",
    "    print(\"Language path:\", language_path) \n",
    "\n",
    "    # Check if language path exists\n",
    "    if os.path.isdir(language_path):\n",
    "        # Get all directories inside the language folder\n",
    "        subdirectories = [d for d in os.listdir(language_path) if os.path.isdir(os.path.join(language_path, d))]\n",
    "\n",
    "        # Check if there are any subdirectories\n",
    "        if subdirectories:\n",
    "            # Print subdirectories\n",
    "            print(\"Subdirectories:\", subdirectories)\n",
    "        else:\n",
    "            print(f\"No subdirectories found for {language}\")\n",
    "\n",
    "        # clips path\n",
    "        clips_path = os.path.join(language_path, \"clips\")\n",
    "\n",
    "        # Check if clips path exists\n",
    "        if os.path.isdir(clips_path):\n",
    "            # Count the number of files in the clips folder\n",
    "            num_files = len(os.listdir(clips_path))\n",
    "            print(f\"Number of files in {language} clips folder:\", num_files)\n",
    "        else:\n",
    "            print(f\"No clips folder found for {language}\")\n",
    "\n",
    "        print(f\"\\n\")\n",
    "    else:\n",
    "        print(f\"No directory found for {language}\")\n"
   ]
  },
  {
   "cell_type": "code",
   "execution_count": 6,
   "metadata": {},
   "outputs": [],
   "source": [
    "def calculate_audio_length(audio_path):\n",
    "    # Load audio file using librosa\n",
    "    y, sr = librosa.load(audio_path, sr=None)\n",
    "    # Compute duration of audio file in seconds\n",
    "    duration = librosa.get_duration(y=y, sr=sr)\n",
    "    return duration\n",
    "\n",
    "def calculate_average_length(language_folder, max_instances=None):\n",
    "    total_duration = 0.0\n",
    "    total_files = 0\n",
    "    instances_processed = 0\n",
    "\n",
    "    language_path = os.path.join(data_dir, language_folder)\n",
    "\n",
    "    # Check if it's a directory\n",
    "    if os.path.isdir(language_path):\n",
    "        # Iterate over clips folders\n",
    "        for clips_folder in os.listdir(language_path):\n",
    "            clips_path = os.path.join(language_path, clips_folder)\n",
    "\n",
    "            # Check if it's a directory\n",
    "            if os.path.isdir(clips_path):\n",
    "                # Iterate over audio clips\n",
    "                for audio_file in os.listdir(clips_path):\n",
    "                    audio_path = os.path.join(clips_path, audio_file)\n",
    "                    try:\n",
    "                        # Calculate duration of audio file\n",
    "                        duration = calculate_audio_length(audio_path)\n",
    "                        total_duration += duration\n",
    "                        total_files += 1\n",
    "                        instances_processed += 1\n",
    "\n",
    "                        if max_instances and instances_processed >= max_instances:\n",
    "                            break  # Stop processing instances if limit reached\n",
    "                    except Exception as e:\n",
    "                        print(f\"Error processing audio file {audio_file}: {e}\")\n",
    "\n",
    "    if total_files > 0:\n",
    "        average_length = total_duration / total_files\n",
    "        print(f\"Average audio length for language {language_folder}: {average_length:.2f} seconds\")\n",
    "    else:\n",
    "        print(f\"No audio files found for language {language_folder}\")"
   ]
  },
  {
   "cell_type": "code",
   "execution_count": 7,
   "metadata": {},
   "outputs": [
    {
     "name": "stdout",
     "output_type": "stream",
     "text": [
      "Average audio length for language dutch: 4.17 seconds\n",
      "Average audio length for language english: 5.28 seconds\n",
      "Average audio length for language chinese: 6.62 seconds\n",
      "Average audio length for language italian: 6.34 seconds\n"
     ]
    }
   ],
   "source": [
    "# Dictionary to store average audio lengths for each language\n",
    "avg_lengths = {}\n",
    "\n",
    "for language in languages:\n",
    "    # Calculate average audio length\n",
    "    avg_length=calculate_average_length(language, max_instances=10)\n",
    "    avg_lengths[language] = avg_length"
   ]
  },
  {
   "cell_type": "code",
   "execution_count": 8,
   "metadata": {},
   "outputs": [],
   "source": [
    "def get_sampling_rate(language_folder, data_dir, max_instances=None, max_length=None):\n",
    "    \"\"\"\n",
    "    Get the sampling rate from audio files within the clips directory of the specified language.\n",
    "\n",
    "    Args:\n",
    "    - language_folder (str): Name of the language folder.\n",
    "    - data_dir (str): Path to the data directory containing language folders.\n",
    "    - max_instances (int, optional): Maximum number of instances to read.\n",
    "    - max_length (int, optional): Maximum length of audio files.\n",
    "\n",
    "    Returns:\n",
    "    - sampling_rate (int or None): Sampling rate of the audio files, or None if no audio files found.\n",
    "    \"\"\"\n",
    "    # Construct the path to the clips directory for the specified language\n",
    "    language_path = os.path.join(data_dir, language_folder, \"clips\")\n",
    "\n",
    "    # Initialize an empty list to store sampling rates\n",
    "    sampling_rates = []\n",
    "\n",
    "    # Check if the clips directory exists\n",
    "    if os.path.isdir(language_path):\n",
    "        # Iterate over audio files in the directory\n",
    "        for root, dirs, files in os.walk(language_path):\n",
    "            for file in files:\n",
    "                # Check if the file is an audio file (you can modify this condition if needed)\n",
    "                if file.endswith(('.wav', '.mp3', '.flac')):\n",
    "                    # Construct the full path to the audio file\n",
    "                    file_path = os.path.join(root, file)\n",
    "                    try:\n",
    "                        # Open the audio file and read the sampling rate\n",
    "                        with sf.SoundFile(file_path) as f:\n",
    "                            sampling_rate = f.samplerate\n",
    "                            # Append the sampling rate to the list\n",
    "                            sampling_rates.append(sampling_rate)\n",
    "\n",
    "                        # Check if maximum instances limit reached\n",
    "                        if max_instances and len(sampling_rates) >= max_instances:\n",
    "                            break\n",
    "                    except Exception as e:\n",
    "                        print(f\"Error reading sampling rate from {file}: {e}\")\n",
    "\n",
    "        # If there are no audio files, return None\n",
    "        if not sampling_rates:\n",
    "            return None\n",
    "\n",
    "        # Calculate the most common sampling rate\n",
    "        sampling_rate = max(set(sampling_rates), key=sampling_rates.count)\n",
    "        return sampling_rate\n",
    "    else:\n",
    "        print(f\"No clips directory found for language {language_folder}\")\n",
    "        return None"
   ]
  },
  {
   "cell_type": "code",
   "execution_count": 11,
   "metadata": {},
   "outputs": [
    {
     "name": "stdout",
     "output_type": "stream",
     "text": [
      "Sampling rate for dutch language: 48000\n",
      "Sampling rate for english language: 32000\n",
      "Sampling rate for chinese language: 48000\n",
      "Sampling rate for italian language: 48000\n"
     ]
    }
   ],
   "source": [
    "for language in languages:\n",
    "    sampling_rate = get_sampling_rate(language, data_dir)\n",
    "    print(f\"Sampling rate for {language} language: {sampling_rate}\")"
   ]
  },
  {
   "cell_type": "code",
   "execution_count": 12,
   "metadata": {},
   "outputs": [],
   "source": [
    "def load_audio_data(language_folder, max_instances=None, max_length=None):\n",
    "    data = []\n",
    "    labels = []\n",
    "\n",
    "    language_path = os.path.join(data_dir, language_folder)\n",
    "\n",
    "    # Check if it's a directory\n",
    "    if os.path.isdir(language_path):\n",
    "        # Iterate over clips folders\n",
    "        for clips_folder in os.listdir(language_path):\n",
    "            clips_path = os.path.join(language_path, clips_folder)\n",
    "\n",
    "            # Check if it's a directory\n",
    "            if os.path.isdir(clips_path):\n",
    "                # Iterate over audio clips\n",
    "                for idx, audio_file in enumerate(os.listdir(clips_path)):\n",
    "                    if max_instances and idx >= max_instances:\n",
    "                        break  # Stop reading instances if limit reached\n",
    "\n",
    "                    audio_path = os.path.join(clips_path, audio_file)\n",
    "                    try:\n",
    "                        # Load audio file using librosa\n",
    "                        y, sr = librosa.load(audio_path, sr=None)\n",
    "\n",
    "                        # Optionally, pad or truncate the waveform array\n",
    "                        if max_length:\n",
    "                            y = librosa.util.fix_length(y, size=max_length)\n",
    "\n",
    "                        # Append audio data and label to the lists\n",
    "                        data.append(y)\n",
    "                        labels.append(language_folder)\n",
    "                    except Exception as e:\n",
    "                        print(f\"Error loading audio file {audio_file}: {e}\")\n",
    "            else:\n",
    "                print(f\"No clips directory found in {language_folder}\")\n",
    "\n",
    "    return np.array(data), np.array(labels)"
   ]
  },
  {
   "cell_type": "code",
   "execution_count": 13,
   "metadata": {},
   "outputs": [],
   "source": [
    "MAX_INSTANCES = 10  # max number of instances to read\n",
    "MAX_LENGTH = 48000 * 60 * 3  # 3 minutes of audio (first term is the assumed sampling rate, in Hz)\n",
    "\n",
    "\"\"\"\"\"\n",
    " The MAX_LENGTH parameter should be determined in relation to the sampling rate, \n",
    " as it represents the maximum length of audio data in terms of samples.\n",
    "\"\"\"\"\"\n",
    "\n",
    "X_all = []\n",
    "y_all = []\n",
    "\n",
    "\n",
    "for language in languages:\n",
    "\n",
    "    # Load audio data for the current language using the language-specific sampling rate\n",
    "    X_lang, y_lang = load_audio_data(language, max_instances=MAX_INSTANCES, max_length=MAX_LENGTH)\n",
    "\n",
    "    # Append the instances for the current language to the overall arrays\n",
    "    X_all.extend(X_lang)\n",
    "    y_all.extend(y_lang)\n",
    "\n",
    "# Convert lists to numpy arrays\n",
    "X_all = np.array(X_all)\n",
    "y_all = np.array(y_all)"
   ]
  },
  {
   "cell_type": "code",
   "execution_count": 14,
   "metadata": {},
   "outputs": [
    {
     "name": "stdout",
     "output_type": "stream",
     "text": [
      "First few elements of X_all: [[ 0.0000000e+00  0.0000000e+00  0.0000000e+00 ...  0.0000000e+00\n",
      "   0.0000000e+00  0.0000000e+00]\n",
      " [ 0.0000000e+00 -1.9317881e-13 -2.3716462e-13 ...  0.0000000e+00\n",
      "   0.0000000e+00  0.0000000e+00]\n",
      " [ 0.0000000e+00  2.2192339e-13  6.1491759e-14 ...  0.0000000e+00\n",
      "   0.0000000e+00  0.0000000e+00]\n",
      " [ 0.0000000e+00  8.9882339e-13  5.1886121e-13 ...  0.0000000e+00\n",
      "   0.0000000e+00  0.0000000e+00]\n",
      " [ 0.0000000e+00  4.0506601e-13  1.6780782e-13 ...  0.0000000e+00\n",
      "   0.0000000e+00  0.0000000e+00]]\n",
      "First few elements of y_all: ['dutch' 'dutch' 'dutch' 'dutch' 'dutch']\n"
     ]
    }
   ],
   "source": [
    "# check\n",
    "print(\"First few elements of X_all:\", X_all[:5])\n",
    "print(\"First few elements of y_all:\", y_all[:5])"
   ]
  },
  {
   "cell_type": "markdown",
   "metadata": {},
   "source": [
    "## Normalize Input"
   ]
  },
  {
   "cell_type": "code",
   "execution_count": null,
   "metadata": {},
   "outputs": [],
   "source": []
  },
  {
   "cell_type": "markdown",
   "metadata": {},
   "source": [
    "## Create Spectograms"
   ]
  },
  {
   "cell_type": "code",
   "execution_count": null,
   "metadata": {},
   "outputs": [],
   "source": []
  }
 ],
 "metadata": {
  "kernelspec": {
   "display_name": "Python 3",
   "language": "python",
   "name": "python3"
  },
  "language_info": {
   "codemirror_mode": {
    "name": "ipython",
    "version": 3
   },
   "file_extension": ".py",
   "mimetype": "text/x-python",
   "name": "python",
   "nbconvert_exporter": "python",
   "pygments_lexer": "ipython3",
   "version": "3.11.7"
  }
 },
 "nbformat": 4,
 "nbformat_minor": 2
}
